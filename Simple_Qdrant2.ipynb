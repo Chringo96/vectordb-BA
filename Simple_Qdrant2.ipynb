{
 "cells": [
  {
   "cell_type": "code",
   "execution_count": null,
   "id": "4b46eebd-ac72-4bb3-be0f-4979ba1abfa8",
   "metadata": {},
   "outputs": [],
   "source": [
    "hits = client.search(\n",
    "    collection_name=\"gpt4\",\n",
    "    query_vector=embeddings.embed_query(\"How is the performance of GPT-4 compared to GPT-3 or GPT-3.5?\"),\n",
    "    limit=3\n",
    ")\n",
    "for hit in hits:\n",
    "  print(hit.payload, \"score:\", hit.score)"
   ]
  },
  {
   "cell_type": "code",
   "execution_count": null,
   "id": "95d50ac7-ee95-4eb7-9786-21fefb6fcc46",
   "metadata": {},
   "outputs": [],
   "source": []
  }
 ],
 "metadata": {
  "kernelspec": {
   "display_name": "",
   "name": ""
  },
  "language_info": {
   "name": ""
  }
 },
 "nbformat": 4,
 "nbformat_minor": 5
}
