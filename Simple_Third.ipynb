{
 "cells": [
  {
   "cell_type": "code",
   "execution_count": null,
   "id": "4b46eebd-ac72-4bb3-be0f-4979ba1abfa8",
   "metadata": {},
   "outputs": [],
   "source": []
  }
 ],
 "metadata": {
  "kernelspec": {
   "display_name": "",
   "name": ""
  },
  "language_info": {
   "name": ""
  }
 },
 "nbformat": 4,
 "nbformat_minor": 5
}
