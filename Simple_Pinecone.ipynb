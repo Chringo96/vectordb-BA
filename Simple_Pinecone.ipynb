{
 "cells": [
  {
   "cell_type": "code",
   "execution_count": 1,
   "id": "22bbbdf5-463a-4caa-8bfb-f5b4e71f331f",
   "metadata": {},
   "outputs": [
    {
     "name": "stdout",
     "output_type": "stream",
     "text": [
      "Collecting pinecone-client\n",
      "  Downloading pinecone_client-4.1.2-py3-none-any.whl.metadata (16 kB)\n",
      "Requirement already satisfied: certifi>=2019.11.17 in c:\\users\\chringo\\appdata\\local\\programs\\python\\python312\\lib\\site-packages (from pinecone-client) (2024.6.2)\n",
      "Collecting pinecone-plugin-interface<0.0.8,>=0.0.7 (from pinecone-client)\n",
      "  Downloading pinecone_plugin_interface-0.0.7-py3-none-any.whl.metadata (1.2 kB)\n",
      "Requirement already satisfied: tqdm>=4.64.1 in c:\\users\\chringo\\appdata\\local\\programs\\python\\python312\\lib\\site-packages (from pinecone-client) (4.66.4)\n",
      "Requirement already satisfied: typing-extensions>=3.7.4 in c:\\users\\chringo\\appdata\\local\\programs\\python\\python312\\lib\\site-packages (from pinecone-client) (4.12.1)\n",
      "Requirement already satisfied: urllib3>=1.26.5 in c:\\users\\chringo\\appdata\\local\\programs\\python\\python312\\lib\\site-packages (from pinecone-client) (2.2.1)\n",
      "Requirement already satisfied: colorama in c:\\users\\chringo\\appdata\\local\\programs\\python\\python312\\lib\\site-packages (from tqdm>=4.64.1->pinecone-client) (0.4.6)\n",
      "Downloading pinecone_client-4.1.2-py3-none-any.whl (216 kB)\n",
      "   ---------------------------------------- 0.0/216.4 kB ? eta -:--:--\n",
      "   - -------------------------------------- 10.2/216.4 kB ? eta -:--:--\n",
      "   ----------------- ---------------------- 92.2/216.4 kB 1.1 MB/s eta 0:00:01\n",
      "   ---------------------------------------- 216.4/216.4 kB 1.9 MB/s eta 0:00:00\n",
      "Downloading pinecone_plugin_interface-0.0.7-py3-none-any.whl (6.2 kB)\n",
      "Installing collected packages: pinecone-plugin-interface, pinecone-client\n",
      "Successfully installed pinecone-client-4.1.2 pinecone-plugin-interface-0.0.7\n",
      "Note: you may need to restart the kernel to use updated packages.\n"
     ]
    },
    {
     "name": "stderr",
     "output_type": "stream",
     "text": [
      "\n",
      "[notice] A new release of pip is available: 24.0 -> 24.1.2\n",
      "[notice] To update, run: C:\\Users\\Chringo\\AppData\\Local\\Programs\\Python\\Python312\\python.exe -m pip install --upgrade pip\n"
     ]
    }
   ],
   "source": [
    "pip install pinecone-client"
   ]
  },
  {
   "cell_type": "code",
   "execution_count": 2,
   "id": "85daac48-3309-443b-b274-889ce1d2c071",
   "metadata": {},
   "outputs": [],
   "source": [
    "from pinecone import Pinecone, ServerlessSpec\n",
    "\n",
    "pc = Pinecone(api_key=\"7c6028ed-8d2a-4003-8e7f-fca445aad9a1\")"
   ]
  },
  {
   "cell_type": "code",
   "execution_count": 3,
   "id": "6b921206-93a3-4158-8378-79135e4d5a92",
   "metadata": {},
   "outputs": [
    {
     "data": {
      "text/plain": [
       "{'indexes': []}"
      ]
     },
     "execution_count": 3,
     "metadata": {},
     "output_type": "execute_result"
    }
   ],
   "source": [
    "# List already created Indexes\n",
    "pc.list_indexes()"
   ]
  },
  {
   "cell_type": "code",
   "execution_count": 4,
   "id": "19eb3ff7-41b7-4eca-bf41-80010bc5b4c1",
   "metadata": {},
   "outputs": [
    {
     "data": {
      "text/plain": [
       "{'indexes': [{'dimension': 2,\n",
       "              'host': 'docs-quickstart-index-3a68ps2.svc.aped-4627-b74a.pinecone.io',\n",
       "              'metric': 'cosine',\n",
       "              'name': 'docs-quickstart-index',\n",
       "              'spec': {'serverless': {'cloud': 'aws', 'region': 'us-east-1'}},\n",
       "              'status': {'ready': True, 'state': 'Ready'}}]}"
      ]
     },
     "execution_count": 4,
     "metadata": {},
     "output_type": "execute_result"
    }
   ],
   "source": [
    "# Create new Index\n",
    "index_name = \"docs-quickstart-index\"\n",
    "\n",
    "if index_name not in pc.list_indexes().names():\n",
    "    pc.create_index(\n",
    "        name=index_name,\n",
    "        dimension=2,\n",
    "        metric=\"cosine\",\n",
    "        spec=ServerlessSpec(\n",
    "            cloud='aws', \n",
    "            region='us-east-1'\n",
    "        ) \n",
    "    )\n",
    "pc.list_indexes()"
   ]
  },
  {
   "cell_type": "code",
   "execution_count": 5,
   "id": "8f7de7b2-2c5f-4bff-b721-ad909c04aa5a",
   "metadata": {},
   "outputs": [
    {
     "data": {
      "text/plain": [
       "{'upserted_count': 3}"
      ]
     },
     "execution_count": 5,
     "metadata": {},
     "output_type": "execute_result"
    }
   ],
   "source": [
    "# Add Vectors to the created Index and put them in 2 different namespaces\n",
    "index = pc.Index(index_name)\n",
    "\n",
    "index.upsert(\n",
    "    vectors=[\n",
    "        {\"id\": \"vec1\", \"values\": [1.0, 1.5]},\n",
    "        {\"id\": \"vec2\", \"values\": [2.0, 1.0]},\n",
    "        {\"id\": \"vec3\", \"values\": [0.1, 3.0]},\n",
    "    ],\n",
    "    namespace=\"ns1\"\n",
    ")\n",
    "\n",
    "index.upsert(\n",
    "    vectors=[\n",
    "        {\"id\": \"vec1\", \"values\": [1.0, -2.5]},\n",
    "        {\"id\": \"vec2\", \"values\": [3.0, -2.0]},\n",
    "        {\"id\": \"vec3\", \"values\": [0.5, -1.5]},\n",
    "    ],\n",
    "    namespace=\"ns2\"\n",
    ")"
   ]
  },
  {
   "cell_type": "code",
   "execution_count": 7,
   "id": "43de26e5-c935-42ba-8381-e85c96ac886e",
   "metadata": {},
   "outputs": [
    {
     "name": "stdout",
     "output_type": "stream",
     "text": [
      "{'dimension': 2,\n",
      " 'index_fullness': 0.0,\n",
      " 'namespaces': {'ns1': {'vector_count': 3}, 'ns2': {'vector_count': 3}},\n",
      " 'total_vector_count': 6}\n"
     ]
    }
   ],
   "source": [
    "print(index.describe_index_stats())"
   ]
  },
  {
   "cell_type": "code",
   "execution_count": 9,
   "id": "331869a6-d46c-439b-b232-562745bc564d",
   "metadata": {},
   "outputs": [
    {
     "name": "stdout",
     "output_type": "stream",
     "text": [
      "{'matches': [{'id': 'vec1', 'score': 1.0, 'values': []},\n",
      "             {'id': 'vec2', 'score': 0.868243158, 'values': []},\n",
      "             {'id': 'vec3', 'score': 0.850068152, 'values': []}],\n",
      " 'namespace': 'ns1',\n",
      " 'usage': {'read_units': 5}}\n",
      "{'matches': [{'id': 'vec1', 'score': 1.0, 'values': [1.0, -2.5]},\n",
      "             {'id': 'vec3', 'score': 0.998274386, 'values': [0.5, -1.5]},\n",
      "             {'id': 'vec2', 'score': 0.824041963, 'values': [3.0, -2.0]}],\n",
      " 'namespace': 'ns2',\n",
      " 'usage': {'read_units': 6}}\n"
     ]
    }
   ],
   "source": [
    "# Peform a similarity search for this query\n",
    "query_results1 = index.query(\n",
    "    namespace=\"ns1\",\n",
    "    vector=[1.0, 1.5],\n",
    "    top_k=3,\n",
    "    include_values=True\n",
    ")\n",
    "\n",
    "print(query_results1)\n",
    "\n",
    "query_results2 = index.query(\n",
    "    namespace=\"ns2\",\n",
    "    vector=[1.0,-2.5],\n",
    "    top_k=3,\n",
    "    include_values=False\n",
    ")\n",
    "\n",
    "print(query_results2)"
   ]
  },
  {
   "cell_type": "code",
   "execution_count": null,
   "id": "bcf8c82d-7918-47e7-af30-bbb5cca9b8fe",
   "metadata": {},
   "outputs": [],
   "source": []
  },
  {
   "cell_type": "code",
   "execution_count": null,
   "id": "a90754f9-4660-4b4f-8dc8-bddffe7dbaf2",
   "metadata": {},
   "outputs": [],
   "source": [
    "# If yout want to clean up and delete the index\n",
    "pc.delete_index(index_name)"
   ]
  }
 ],
 "metadata": {
  "kernelspec": {
   "display_name": "Python 3 (ipykernel)",
   "language": "python",
   "name": "python3"
  },
  "language_info": {
   "codemirror_mode": {
    "name": "ipython",
    "version": 3
   },
   "file_extension": ".py",
   "mimetype": "text/x-python",
   "name": "python",
   "nbconvert_exporter": "python",
   "pygments_lexer": "ipython3",
   "version": "3.12.0"
  }
 },
 "nbformat": 4,
 "nbformat_minor": 5
}
